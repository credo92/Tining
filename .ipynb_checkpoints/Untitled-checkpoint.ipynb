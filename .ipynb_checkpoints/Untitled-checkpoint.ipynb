{
 "cells": [
  {
   "cell_type": "code",
   "execution_count": 4,
   "metadata": {
    "collapsed": false
   },
   "outputs": [
    {
     "name": "stdout",
     "output_type": "stream",
     "text": [
      "Length of statuses 22\n"
     ]
    },
    {
     "ename": "NameError",
     "evalue": "name 'status_texts' is not defined",
     "output_type": "error",
     "traceback": [
      "\u001b[0;31m---------------------------------------------------------------------------\u001b[0m",
      "\u001b[0;31mNameError\u001b[0m                                 Traceback (most recent call last)",
      "\u001b[0;32m<ipython-input-4-f95326d9d37c>\u001b[0m in \u001b[0;36m<module>\u001b[0;34m()\u001b[0m\n\u001b[1;32m     46\u001b[0m     \u001b[0;31m# collection of words\u001b[0m\u001b[0;34m\u001b[0m\u001b[0;34m\u001b[0m\u001b[0m\n\u001b[1;32m     47\u001b[0m words = [ w\n\u001b[0;32m---> 48\u001b[0;31m           \u001b[0;32mfor\u001b[0m \u001b[0mt\u001b[0m \u001b[0;32min\u001b[0m \u001b[0mstatus_texts\u001b[0m\u001b[0;34m\u001b[0m\u001b[0m\n\u001b[0m\u001b[1;32m     49\u001b[0m               for w in t.split()]\n\u001b[1;32m     50\u001b[0m \u001b[0;34m\u001b[0m\u001b[0m\n",
      "\u001b[0;31mNameError\u001b[0m: name 'status_texts' is not defined"
     ]
    }
   ],
   "source": [
    "from collections import Counter\n",
    "from prettytable import PrettyTable\n",
    "import matplotlib.pyplot as plt\n",
    "import json\n",
    "#Establishing Connection\n",
    "import twitter\n",
    "CONSUMER_KEY = '6x2ak5AGgHr3dnC0j2V4734NA'\n",
    "CONSUMER_SECRET = 'ufHhOTbVGUz4fGpXUGlHpdOwYWmb6JkMw7Y17jrvzOmlyZPkoZ'\n",
    "OAUTH_TOKEN = '44870735-3Jg9QU4PQjmGGatjhHzuIhQSxSiSZnZnasHwSdQ95'\n",
    "OAUTH_TOKEN_SECRET = 'NHKcEmN5j0RoD0HPOGj2WGRpSDVcGNwwqRrXY6qM8yEvI'\n",
    "auth = twitter.oauth.OAuth(OAUTH_TOKEN, OAUTH_TOKEN_SECRET,\n",
    "                           CONSUMER_KEY, CONSUMER_SECRET)\n",
    "twitter_api = twitter.Twitter(auth=auth)\n",
    "\n",
    "## Searching statuses \n",
    "\n",
    "q = '#Vipul'\n",
    "count = 100\n",
    "\n",
    "search_results = twitter_api.search.tweets(q=q,count=count)\n",
    "statuses = search_results['statuses']\n",
    "\n",
    "for _ in range(5):\n",
    "    print \"Length of statuses\", len(statuses)\n",
    "    try:\n",
    "        next_results = search_results['search_metadata']['next_results']\n",
    "    except KeyError, e: # nothin when next result null\n",
    "        break\n",
    "    #dictionary\n",
    "    kwargs = dict([ kv.split('=') for kv in next_results[1:].split(\"&\")])\n",
    "    search_results = twitter_api.search.tweets(**kwargs)\n",
    "    statuses += search_results['statuses']\n",
    "   \n",
    "\n",
    "    #extracting text, screen names, and hastags\n",
    "    status_texts = [ status['text']\n",
    "                 for status in statuses]\n",
    "    screen_names = [user_mention['screen_name']\n",
    "                for status in statuses\n",
    "                    for user_mention in status['entities']['user_mentions']]\n",
    "\n",
    "    hashtags = [ hashtag['text']\n",
    "            for status in statuses\n",
    "                for hashtag in status['entities']['hashtags']]\n",
    "\n",
    "    # collection of words \n",
    "    wordss = [ w\n",
    "          for t in status_texts\n",
    "              for w in t.split()]\n",
    "\n",
    "\n",
    "\n",
    "#Data Visualization Frequency Data with Histograms\n",
    "for label, data in(\n",
    "                    ('Word', wordss),\n",
    "                    ('Screen Name', screen_names),\n",
    "                    ('Hashtag', hashtags)):\n",
    "   \n",
    "    c  = Counter(data)\n",
    "    plt.hist(c.values())\n",
    "    \n",
    "    plt.title(label)\n",
    "    plt.ylabel(\"Number of items in bin\")\n",
    "    plt.xlabel(\"Bins (number of times an item appeared)\")\n",
    "    \n",
    "    plt.figure()\n",
    "    \n",
    "    \n",
    "    \n",
    "    \n",
    "\n",
    "\n"
   ]
  },
  {
   "cell_type": "code",
   "execution_count": null,
   "metadata": {
    "collapsed": true
   },
   "outputs": [],
   "source": []
  }
 ],
 "metadata": {
  "kernelspec": {
   "display_name": "Python [conda root]",
   "language": "python",
   "name": "conda-root-py"
  },
  "language_info": {
   "codemirror_mode": {
    "name": "ipython",
    "version": 2
   },
   "file_extension": ".py",
   "mimetype": "text/x-python",
   "name": "python",
   "nbconvert_exporter": "python",
   "pygments_lexer": "ipython2",
   "version": "2.7.12"
  }
 },
 "nbformat": 4,
 "nbformat_minor": 1
}
